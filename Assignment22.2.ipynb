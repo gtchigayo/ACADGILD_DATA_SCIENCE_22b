{
 "cells": [
  {
   "cell_type": "code",
   "execution_count": 1,
   "metadata": {},
   "outputs": [
    {
     "name": "stdout",
     "output_type": "stream",
     "text": [
      "Enter your first name:Gift\n",
      "Enter your last name:Chigayo\n",
      "Your reversed name is: tfiG oyagihC\n"
     ]
    }
   ],
   "source": [
    "fname = input(\"Enter your first name:\")\n",
    "lname = input(\"Enter your last name:\")\n",
    "fullname = 'Your reversed name is: {} {}'.format(fname[::-1],lname[::-1])\n",
    "print(fullname)"
   ]
  },
  {
   "cell_type": "code",
   "execution_count": null,
   "metadata": {},
   "outputs": [],
   "source": []
  }
 ],
 "metadata": {
  "kernelspec": {
   "display_name": "Python 3",
   "language": "python",
   "name": "python3"
  },
  "language_info": {
   "codemirror_mode": {
    "name": "ipython",
    "version": 3
   },
   "file_extension": ".py",
   "mimetype": "text/x-python",
   "name": "python",
   "nbconvert_exporter": "python",
   "pygments_lexer": "ipython3",
   "version": "3.7.0"
  }
 },
 "nbformat": 4,
 "nbformat_minor": 2
}
